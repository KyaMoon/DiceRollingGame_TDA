{
 "cells": [
  {
   "cell_type": "code",
   "execution_count": null,
   "metadata": {},
   "outputs": [],
   "source": [
    "## Project Brief: Project Brief\n",
    "# The Goal of this project, like the title suggests, involves writing a program that simulates rolling a\n",
    "# dice. When the program runs, it will randomly choose a number between 1 and 6. (Or whatever\n",
    "# other integer you prefer — the number of sides on the die is up to you.) The program will print\n",
    "# what that number is. It should then ask you if you’d like to roll again. For this project, you’ll need\n",
    "# to set the min and max number that your dice can produce. For the average die, that means a\n",
    "# minimum of 1 and a maximum of 6. You’ll also want a function that randomly grabs a number\n",
    "# within that range and prints it."
   ]
  },
  {
   "cell_type": "code",
   "execution_count": 8,
   "metadata": {},
   "outputs": [
    {
     "name": "stdout",
     "output_type": "stream",
     "text": [
      "6\n",
      "5\n",
      "4\n",
      "Thanks for playing!\n"
     ]
    }
   ],
   "source": [
    "from numpy import random\n",
    "roll = \"yes\"\n",
    "while roll == \"yes\" or roll == \"y\":\n",
    "    x = random.randint(1,7)\n",
    "    print(x)\n",
    "    roll = input(\"Would you like to roll the dice again, yes or no?\")\n",
    "else:\n",
    "    print(\"Thanks for playing!\")\n",
    "\n",
    "\n"
   ]
  }
 ],
 "metadata": {
  "kernelspec": {
   "display_name": "Python 3",
   "language": "python",
   "name": "python3"
  },
  "language_info": {
   "codemirror_mode": {
    "name": "ipython",
    "version": 3
   },
   "file_extension": ".py",
   "mimetype": "text/x-python",
   "name": "python",
   "nbconvert_exporter": "python",
   "pygments_lexer": "ipython3",
   "version": "3.11.1"
  },
  "orig_nbformat": 4,
  "vscode": {
   "interpreter": {
    "hash": "d73c7f64bcd9bf0fe34abdfaba2dc438bbc09d073472b0c799bcac48e75a85c3"
   }
  }
 },
 "nbformat": 4,
 "nbformat_minor": 2
}
